{
 "cells": [
  {
   "cell_type": "code",
   "execution_count": 3,
   "id": "3c7548e2-d3c5-4be4-961d-ddf0149f7ee9",
   "metadata": {},
   "outputs": [],
   "source": [
    "import pandas as pd\n",
    "import os\n",
    "import sys\n",
    "project_root = os.path.abspath(\"..\")\n",
    "if project_root not in sys.path:\n",
    "    sys.path.append(project_root)\n",
    "from src.preprocessing.cleaner import clean_complaints_df\n",
    "from src.preprocessing.transformer import transform_features"
   ]
  },
  {
   "cell_type": "code",
   "execution_count": 4,
   "id": "5482d6aa-1d9c-4c06-a347-7c19c3477659",
   "metadata": {},
   "outputs": [
    {
     "name": "stdout",
     "output_type": "stream",
     "text": [
      "Loaded 555957 raw records.\n"
     ]
    }
   ],
   "source": [
    "# Load raw consumer complaints data\n",
    "df_raw = pd.read_csv(\"../data/raw/consumer_complaints.csv\", low_memory=False)\n",
    "print(f\"Loaded {len(df_raw)} raw records.\")"
   ]
  },
  {
   "cell_type": "code",
   "execution_count": 5,
   "id": "f6818ef0-405b-49cf-b574-ab5b17c7568a",
   "metadata": {},
   "outputs": [
    {
     "name": "stdout",
     "output_type": "stream",
     "text": [
      "Retained 66806 records after initial cleaning.\n"
     ]
    }
   ],
   "source": [
    "# Apply cleaning from cleaner.py\n",
    "df_cleaned = clean_complaints_df(df_raw)\n",
    "print(f\"Retained {len(df_cleaned)} records after initial cleaning.\")"
   ]
  },
  {
   "cell_type": "code",
   "execution_count": 6,
   "id": "b7e34ce3-14fe-489a-90c5-467f3b05fdcc",
   "metadata": {},
   "outputs": [],
   "source": [
    "# Apply feature transformation from transformer.py\n",
    "df_transformed = transform_features(df_cleaned)"
   ]
  },
  {
   "cell_type": "code",
   "execution_count": 7,
   "id": "135c2387-662d-4f08-9fde-f4850ce95b73",
   "metadata": {},
   "outputs": [
    {
     "name": "stdout",
     "output_type": "stream",
     "text": [
      "\n",
      " Sample of the transformed data with new features:\n"
     ]
    },
    {
     "data": {
      "text/html": [
       "<div>\n",
       "<style scoped>\n",
       "    .dataframe tbody tr th:only-of-type {\n",
       "        vertical-align: middle;\n",
       "    }\n",
       "\n",
       "    .dataframe tbody tr th {\n",
       "        vertical-align: top;\n",
       "    }\n",
       "\n",
       "    .dataframe thead th {\n",
       "        text-align: right;\n",
       "    }\n",
       "</style>\n",
       "<table border=\"1\" class=\"dataframe\">\n",
       "  <thead>\n",
       "    <tr style=\"text-align: right;\">\n",
       "      <th></th>\n",
       "      <th>product</th>\n",
       "      <th>issue</th>\n",
       "      <th>company</th>\n",
       "      <th>state</th>\n",
       "      <th>timely_response</th>\n",
       "      <th>text_cleaned</th>\n",
       "      <th>consumer_disputed_binary</th>\n",
       "      <th>timely_response_binary</th>\n",
       "      <th>text_length</th>\n",
       "      <th>product_dispute_rate</th>\n",
       "      <th>company_dispute_rate</th>\n",
       "      <th>sentiment</th>\n",
       "      <th>sentiment_intensity</th>\n",
       "      <th>sentiment_encoded</th>\n",
       "      <th>sentiment_timely_interaction</th>\n",
       "      <th>company_timely_interaction</th>\n",
       "    </tr>\n",
       "  </thead>\n",
       "  <tbody>\n",
       "    <tr>\n",
       "      <th>190126</th>\n",
       "      <td>Debt collection</td>\n",
       "      <td>Cont'd attempts collect debt not owed</td>\n",
       "      <td>Diversified Consultants, Inc.</td>\n",
       "      <td>NY</td>\n",
       "      <td>Yes</td>\n",
       "      <td>xxxx has claimed i owe them for xxxx years des...</td>\n",
       "      <td>0</td>\n",
       "      <td>1</td>\n",
       "      <td>52</td>\n",
       "      <td>0.222881</td>\n",
       "      <td>0.181818</td>\n",
       "      <td>negative</td>\n",
       "      <td>0.000000</td>\n",
       "      <td>1</td>\n",
       "      <td>1</td>\n",
       "      <td>0.181818</td>\n",
       "    </tr>\n",
       "    <tr>\n",
       "      <th>190135</th>\n",
       "      <td>Consumer Loan</td>\n",
       "      <td>Managing the loan or lease</td>\n",
       "      <td>M&amp;T Bank Corporation</td>\n",
       "      <td>VA</td>\n",
       "      <td>Yes</td>\n",
       "      <td>due to inconsistencies in the amount owed that...</td>\n",
       "      <td>0</td>\n",
       "      <td>1</td>\n",
       "      <td>238</td>\n",
       "      <td>0.247961</td>\n",
       "      <td>0.223464</td>\n",
       "      <td>neutral</td>\n",
       "      <td>0.085000</td>\n",
       "      <td>0</td>\n",
       "      <td>0</td>\n",
       "      <td>0.223464</td>\n",
       "    </tr>\n",
       "    <tr>\n",
       "      <th>190155</th>\n",
       "      <td>Mortgage</td>\n",
       "      <td>Loan modification,collection,foreclosure</td>\n",
       "      <td>Wells Fargo &amp; Company</td>\n",
       "      <td>CA</td>\n",
       "      <td>Yes</td>\n",
       "      <td>in xxxxxxxx my wages that i earned at my job d...</td>\n",
       "      <td>1</td>\n",
       "      <td>1</td>\n",
       "      <td>655</td>\n",
       "      <td>0.267176</td>\n",
       "      <td>0.279024</td>\n",
       "      <td>extreme_negative</td>\n",
       "      <td>-0.019294</td>\n",
       "      <td>2</td>\n",
       "      <td>2</td>\n",
       "      <td>0.279024</td>\n",
       "    </tr>\n",
       "    <tr>\n",
       "      <th>190207</th>\n",
       "      <td>Mortgage</td>\n",
       "      <td>Loan servicing, payments, escrow account</td>\n",
       "      <td>JPMorgan Chase &amp; Co.</td>\n",
       "      <td>CA</td>\n",
       "      <td>Yes</td>\n",
       "      <td>i have an open and current mortgage with chase...</td>\n",
       "      <td>1</td>\n",
       "      <td>1</td>\n",
       "      <td>74</td>\n",
       "      <td>0.267176</td>\n",
       "      <td>0.281903</td>\n",
       "      <td>neutral</td>\n",
       "      <td>0.000000</td>\n",
       "      <td>0</td>\n",
       "      <td>0</td>\n",
       "      <td>0.281903</td>\n",
       "    </tr>\n",
       "    <tr>\n",
       "      <th>190208</th>\n",
       "      <td>Mortgage</td>\n",
       "      <td>Credit decision / Underwriting</td>\n",
       "      <td>Rushmore Loan Management Services LLC</td>\n",
       "      <td>CA</td>\n",
       "      <td>Yes</td>\n",
       "      <td>xxxx was submitted xxxxxxxx at the time i subm...</td>\n",
       "      <td>1</td>\n",
       "      <td>1</td>\n",
       "      <td>259</td>\n",
       "      <td>0.267176</td>\n",
       "      <td>0.365585</td>\n",
       "      <td>negative</td>\n",
       "      <td>-0.051136</td>\n",
       "      <td>1</td>\n",
       "      <td>1</td>\n",
       "      <td>0.365585</td>\n",
       "    </tr>\n",
       "  </tbody>\n",
       "</table>\n",
       "</div>"
      ],
      "text/plain": [
       "                product                                     issue  \\\n",
       "190126  Debt collection     Cont'd attempts collect debt not owed   \n",
       "190135    Consumer Loan                Managing the loan or lease   \n",
       "190155         Mortgage  Loan modification,collection,foreclosure   \n",
       "190207         Mortgage  Loan servicing, payments, escrow account   \n",
       "190208         Mortgage            Credit decision / Underwriting   \n",
       "\n",
       "                                      company state timely_response  \\\n",
       "190126          Diversified Consultants, Inc.    NY             Yes   \n",
       "190135                   M&T Bank Corporation    VA             Yes   \n",
       "190155                  Wells Fargo & Company    CA             Yes   \n",
       "190207                   JPMorgan Chase & Co.    CA             Yes   \n",
       "190208  Rushmore Loan Management Services LLC    CA             Yes   \n",
       "\n",
       "                                             text_cleaned  \\\n",
       "190126  xxxx has claimed i owe them for xxxx years des...   \n",
       "190135  due to inconsistencies in the amount owed that...   \n",
       "190155  in xxxxxxxx my wages that i earned at my job d...   \n",
       "190207  i have an open and current mortgage with chase...   \n",
       "190208  xxxx was submitted xxxxxxxx at the time i subm...   \n",
       "\n",
       "        consumer_disputed_binary  timely_response_binary  text_length  \\\n",
       "190126                         0                       1           52   \n",
       "190135                         0                       1          238   \n",
       "190155                         1                       1          655   \n",
       "190207                         1                       1           74   \n",
       "190208                         1                       1          259   \n",
       "\n",
       "        product_dispute_rate  company_dispute_rate         sentiment  \\\n",
       "190126              0.222881              0.181818          negative   \n",
       "190135              0.247961              0.223464           neutral   \n",
       "190155              0.267176              0.279024  extreme_negative   \n",
       "190207              0.267176              0.281903           neutral   \n",
       "190208              0.267176              0.365585          negative   \n",
       "\n",
       "        sentiment_intensity  sentiment_encoded  sentiment_timely_interaction  \\\n",
       "190126             0.000000                  1                             1   \n",
       "190135             0.085000                  0                             0   \n",
       "190155            -0.019294                  2                             2   \n",
       "190207             0.000000                  0                             0   \n",
       "190208            -0.051136                  1                             1   \n",
       "\n",
       "        company_timely_interaction  \n",
       "190126                    0.181818  \n",
       "190135                    0.223464  \n",
       "190155                    0.279024  \n",
       "190207                    0.281903  \n",
       "190208                    0.365585  "
      ]
     },
     "metadata": {},
     "output_type": "display_data"
    },
    {
     "name": "stdout",
     "output_type": "stream",
     "text": [
      "\n",
      "Columns in the final DataFrame:\n",
      "['product', 'issue', 'company', 'state', 'timely_response', 'text_cleaned', 'consumer_disputed_binary', 'timely_response_binary', 'text_length', 'product_dispute_rate', 'company_dispute_rate', 'sentiment', 'sentiment_intensity', 'sentiment_encoded', 'sentiment_timely_interaction', 'company_timely_interaction']\n"
     ]
    }
   ],
   "source": [
    "# Display a sample of the final transformed DataFrame to verify new features\n",
    "print(\"\\n Sample of the transformed data with new features:\")\n",
    "display(df_transformed.head())\n",
    "\n",
    "print(\"\\nColumns in the final DataFrame:\")\n",
    "print(df_transformed.columns.tolist())"
   ]
  },
  {
   "cell_type": "code",
   "execution_count": 8,
   "id": "21be43f3-888f-4928-ac89-b5acd6abe8aa",
   "metadata": {},
   "outputs": [
    {
     "name": "stdout",
     "output_type": "stream",
     "text": [
      "Cleaned & processed data saved to ../data/processed/clean_consumer_complaints.csv.\n"
     ]
    }
   ],
   "source": [
    "# Save cleaned and transformed data\n",
    "output_path = \"../data/processed/clean_consumer_complaints.csv\"\n",
    "df_transformed.to_csv(output_path, index=False)\n",
    "print(f\"Cleaned & processed data saved to {output_path}.\")"
   ]
  },
  {
   "cell_type": "code",
   "execution_count": 9,
   "id": "85d2aee4-887b-47a0-9c78-ac5c4418ac85",
   "metadata": {},
   "outputs": [
    {
     "name": "stdout",
     "output_type": "stream",
     "text": [
      "Preprocessing summary written to ../outputs/profiling/preprocessing_summary.md\n"
     ]
    }
   ],
   "source": [
    "#  Save Preprocessing Summary \n",
    "\n",
    "retained_records = df_transformed.shape[0]\n",
    "sample_text = df_transformed['text_cleaned'].iloc[0]\n",
    "\n",
    "summary_path = \"../outputs/profiling/preprocessing_summary.md\"\n",
    "\n",
    "with open(summary_path, \"w\") as f:\n",
    "    f.write(\" Deep Preprocessing Summary\\n\\n\")\n",
    "    f.write(f\"**Records Retained:** {retained_records:,}\\n\\n\")\n",
    "    \n",
    "    f.write(\"###  Major Preprocessing Steps:\\n\")\n",
    "    f.write(\"- Dropped columns irrelevant for sentiment modeling\")\n",
    "    f.write(\"- Text cleaning applied: Lowercased, special characters/HTML/URLs/emails/numbers removed, normalized spacing.\\n\")\n",
    "    f.write(\"- Smart Weak Sentiment Labeling using:\\n\")\n",
    "    f.write(\"  - TextBlob polarity & subjectivity\\n\")\n",
    "    f.write(\"  - Keyword-based checks (extreme negative, negative, neutral indicators)\\n\")\n",
    "    f.write(\"  - POS tagging for emphasis and negation adjustments\\n\")\n",
    "    f.write(\"- Added Encoded/Binary Columns:\\n\")\n",
    "    f.write(\"  - `consumer_disputed_binary`\\n\")\n",
    "    f.write(\"  - `timely_response_binary`\\n\")\n",
    "    f.write(\"  - `sentiment_encoded` (0: Neutral, 1: Negative, 2: Extreme Negative)\\n\")\n",
    "    f.write(\"- Added Features:\\n\")\n",
    "    f.write(\"  - `sentiment_intensity`: Sentiment score from TextBlob.\\n\")\n",
    "    f.write(\"  - `text_length` (word count of cleaned text)\\n\")\n",
    "    f.write(\"  - `product_dispute_rate` (target encoding with smoothing)\\n\")\n",
    "    f.write(\"  - `company_dispute_rate` (target encoding with smoothing)\\n\")\n",
    "    f.write(\"  - `sentiment_timely_interaction` (sentiment * timely response)\\n\")\n",
    "    f.write(\"  - `company_timely_interaction` (company dispute rate * timely response)\\n\")\n",
    "    f.write(\"- Missing states filled with 'Unknown'.\\n\")\n",
    "    f.write(\"- Carefully preserved complaint narratives with sufficient information.\\n\")\n",
    "    \n",
    "    f.write(\"\\n---\\n\\n\")\n",
    "    f.write(\"Sample of a Cleaned Complaint Narrative:\\n\\n\")\n",
    "    f.write(f\"> {sample_text}\\n\")\n",
    "\n",
    "print(f\"Preprocessing summary written to {summary_path}\")\n"
   ]
  },
  {
   "cell_type": "code",
   "execution_count": null,
   "id": "3e00df6c-46c4-4472-a32f-fcff74f61750",
   "metadata": {},
   "outputs": [],
   "source": []
  }
 ],
 "metadata": {
  "kernelspec": {
   "display_name": "Python 3.8 (TensorFlow)",
   "language": "python",
   "name": "tf-3.8"
  },
  "language_info": {
   "codemirror_mode": {
    "name": "ipython",
    "version": 3
   },
   "file_extension": ".py",
   "mimetype": "text/x-python",
   "name": "python",
   "nbconvert_exporter": "python",
   "pygments_lexer": "ipython3",
   "version": "3.8.10"
  }
 },
 "nbformat": 4,
 "nbformat_minor": 5
}
